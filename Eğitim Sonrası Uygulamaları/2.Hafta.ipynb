{
 "cells": [
  {
   "attachments": {},
   "cell_type": "markdown",
   "metadata": {},
   "source": [
    "# 1. Başlık\n",
    "## 2. Başlık\n",
    "### 3. Başlık\n",
    "#### 4. Başlık\n",
    "##### 5. Başlık\n",
    "###### 6. Başlık"
   ]
  },
  {
   "attachments": {},
   "cell_type": "markdown",
   "metadata": {},
   "source": [
    "**Kalın**\n",
    "*İtalik*\n"
   ]
  },
  {
   "attachments": {},
   "cell_type": "markdown",
   "metadata": {},
   "source": [
    "[Github](https://pages.github.com/)\n"
   ]
  },
  {
   "attachments": {},
   "cell_type": "markdown",
   "metadata": {},
   "source": [
    "![Image](https://myoctocat.com/assets/images/base-octocat.svg)\n"
   ]
  },
  {
   "attachments": {},
   "cell_type": "markdown",
   "metadata": {},
   "source": [
    "- 1. Madde\n",
    "- 2. Madde\n",
    "   - 2.1. Madde"
   ]
  }
 ],
 "metadata": {
  "kernelspec": {
   "display_name": "Python 3",
   "language": "python",
   "name": "python3"
  },
  "language_info": {
   "name": "python",
   "version": "3.11.1"
  },
  "orig_nbformat": 4,
  "vscode": {
   "interpreter": {
    "hash": "8bc662ef06b54070c152adee2d96526df30a4726e6ffd2b78d04f1dab0c00fcb"
   }
  }
 },
 "nbformat": 4,
 "nbformat_minor": 2
}
