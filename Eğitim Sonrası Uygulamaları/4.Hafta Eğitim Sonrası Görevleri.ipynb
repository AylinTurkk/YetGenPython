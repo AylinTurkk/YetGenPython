{
 "cells": [
  {
   "cell_type": "markdown",
   "metadata": {},
   "source": [
    "# Problem 1\n",
    "`ogrenciler` adında bir sözlük oluşturunuz. Kullanıcıdan döngü yardımıyla 3 öğrenci için veri girmesini isteyerek öğrencilerin sırasıyla okul numarası, isim, soy isim, telefon numarası ve doğum tarihi bilgilerini alınız. Aldığınız öğrenci bilgilerini yine aynı döngü yardımıyla `ogrenciler` adındaki sözlükte saklayınız. Daha sonra öğrenci bilgilerinin bulunduğu sözlük yapısını ekrana bastırınız.\n",
    "\n"
   ]
  },
  {
   "cell_type": "code",
   "execution_count": 4,
   "metadata": {},
   "outputs": [
    {
     "name": "stdout",
     "output_type": "stream",
     "text": [
      "{0: {'No': '8', 'Ad': 'Aylin', 'Soyad': 'Türk', 'Telefon': '56328562', 'Doğum tarihi': '29.09.2001'}, 1: {'No': '5', 'Ad': 'Semanur', 'Soyad': 'Yüce', 'Telefon': '737538275', 'Doğum tarihi': '05.12.2001'}, 2: {'No': '9', 'Ad': 'Fiderya', 'Soyad': 'Şahin', 'Telefon': '327562756', 'Doğum tarihi': '13.09.2001'}}\n"
     ]
    }
   ],
   "source": [
    "# 1.Problemin Çözümünü Buraya Yazınız\n",
    "ogrenciler = {}\n",
    "for i in range(3):\n",
    "    okulno = input(\"Okul numarasi:\")\n",
    "    isim = input(\"isim:\")\n",
    "    soyisim = input(\"soyisim:\")\n",
    "    tel = input(\"Telefon numarasi:\")\n",
    "    dogum = input(\"Doğum tarihi:\")\n",
    "\n",
    "    ogrenciler[i] = {\n",
    "        \"No\": okulno,\n",
    "        \"Ad\": isim,\n",
    "        \"Soyad\": soyisim,\n",
    "        \"Telefon\": tel,\n",
    "        \"Doğum tarihi\": dogum\n",
    "    }\n",
    "print(ogrenciler)"
   ]
  },
  {
   "cell_type": "markdown",
   "metadata": {},
   "source": [
    "# Problem 2\n",
    "\n",
    "### a - Biraz ısınarak başlayalım!\n",
    "\n",
    "```\n",
    "numbers = [5,10,10,15,15,15,20,20,20,20]\n",
    "```\n",
    "\n",
    "Yukarıda `numbers` adında 10 elemanlı bir liste verilmiştir. Bu listenin her elemanını kontrol eden ve tekrar eden elemanları bir kez olacak şekilde başka bir listeye kopyalayan bir program yazınız. Son olarak oluşturduğunuz listeyi ekrana bastırınız.\n",
    "\n",
    "\n",
    "\n",
    "\n",
    "```\n",
    ">Output\n",
    "[5, 10, 15, 20]\n",
    "```\n"
   ]
  },
  {
   "cell_type": "code",
   "execution_count": 5,
   "metadata": {},
   "outputs": [
    {
     "name": "stdout",
     "output_type": "stream",
     "text": [
      "[5, 10, 15, 20]\n"
     ]
    }
   ],
   "source": [
    "# 2.Problemin a Şıkkının Çözümünü Buraya Yazın\n",
    "numbers = [5,10,10,15,15,15,20,20,20,20]\n",
    "unique = []\n",
    "for x in numbers:\n",
    "    if x in unique:\n",
    "        continue\n",
    "    else: unique.append(x)\n",
    "print(unique)\n",
    "\n"
   ]
  },
  {
   "cell_type": "markdown",
   "metadata": {},
   "source": [
    "### 🌶️ b) Hadi işi biraz daha zorlaştıralım! \n",
    "\n",
    "\n",
    "Şimdiyse senden `numbers` isimli listedeki tekrar eden elemanları `repeatNumbers` adındaki listeye; tekrar etmeyen elemanları `uniqueNumbers`adındaki listeye kopyalayan yazmanı ve listeleri ekrana bastırmanı bekliyoruz\n",
    "\n",
    "```\n",
    ">Output\n",
    "Tekrar Eden Elemanlar: [10, 10, 15, 15, 15, 20, 20, 20, 20]\n",
    "Tekrar Etmeyen Elemanlar: [5]\n",
    "```"
   ]
  },
  {
   "cell_type": "code",
   "execution_count": 6,
   "metadata": {},
   "outputs": [
    {
     "name": "stdout",
     "output_type": "stream",
     "text": [
      "Tekrar eden elemanlar: [10, 10, 15, 15, 15, 20, 20, 20, 20]\n",
      "Tekrar etmeyen elemanlar: [5]\n"
     ]
    }
   ],
   "source": [
    "# 2.Problemin b Şıkkının Çözümünü Buraya Yazınız\n",
    "numbers = [5,10,10,15,15,15,20,20,20,20]\n",
    "repeatNumbers =[]\n",
    "uniqueNumbers =[]\n",
    "for x in numbers:\n",
    "    if numbers.count(x)==1:\n",
    "        uniqueNumbers.append(x)\n",
    "    else:\n",
    "        repeatNumbers.append(x)\n",
    "print(\"Tekrar eden elemanlar:\", repeatNumbers)\n",
    "print(\"Tekrar etmeyen elemanlar:\" , uniqueNumbers)"
   ]
  },
  {
   "cell_type": "markdown",
   "metadata": {},
   "source": [
    "# Problem 3\n",
    "sn1 = {1,2,3,4,5}\n",
    "\n",
    "sn2 = {4,5,6,7,8}\n",
    "\n",
    " Verilen 2 adet küme için kesişimlerini, farklarını ve birleşimlerini bulunuz. "
   ]
  },
  {
   "cell_type": "code",
   "execution_count": 8,
   "metadata": {},
   "outputs": [
    {
     "name": "stdout",
     "output_type": "stream",
     "text": [
      "Listelerin kesişimleri: {4, 5}\n",
      "Listelerin farkalrı: {1, 2, 3}\n",
      "Listelerin birleşimi: {1, 2, 3, 4, 5, 6, 7, 8}\n"
     ]
    }
   ],
   "source": [
    "# 3.Problemin Çözümünü Buraya Yazınız\n",
    "sn1 = {1,2,3,4,5}\n",
    "\n",
    "sn2 = {4,5,6,7,8}\n",
    "\n",
    "x = sn1.intersection(sn2)\n",
    "y = sn1.difference(sn2)\n",
    "z = sn1.union(sn2)\n",
    "\n",
    "print(\"Listelerin kesişimleri:\", x)\n",
    "print(\"Listelerin farkalrı:\", y)\n",
    "print(\"Listelerin birleşimi:\", z)\n"
   ]
  },
  {
   "cell_type": "markdown",
   "metadata": {},
   "source": [
    "# Problem 4\n",
    "\n",
    "Buradaki işlemlerimizin tamamı stringler içindir. Aşağıda verilecek olan metodlar için kendinizin örnek yaratması gerekmektedir. \n",
    "\n",
    "Örneğin `upper` için `string` değişkeni oluştururken` k = \"BAC\"` şeklinde oluşturmayınız. Bunun yerine k değişkenini `k = \"bac`\" şeklinde oluşturmanız `upper` metodundaki değişimi görebilmeniz için daha iyi olacaktır.\n",
    "\n",
    "Bütün metodlardaki değişimin gözle görülür şekilde değişimi beklenmektedir.\n",
    "\n",
    "\n",
    "1- capitalize(), lower(), upper(), swapcase(), title(), replace()\n",
    "\n",
    "2- endswith(), startswith(), find(), index(), count()\n",
    "\n",
    "3- split(), strip(), join(), islower(), isalpha(), isdigit()\n",
    "\n",
    "\n",
    "Yukarıdaki `string` metodlarındaki değişimleri görebildiğimiz bir program yazınız.\n"
   ]
  },
  {
   "cell_type": "code",
   "execution_count": 16,
   "metadata": {},
   "outputs": [
    {
     "name": "stdout",
     "output_type": "stream",
     "text": [
      "YeTgeN pYThOn\n",
      "Yetgen python\n",
      "yetgen python\n",
      "YETGEN PYTHON\n",
      "yEtGEn PytHoN\n",
      "Yetgen Python\n",
      "YuTguN pYThOn\n",
      "False\n",
      "True\n",
      "-1\n",
      "2\n",
      "2\n",
      "['YeTgeN', 'pYThOn']\n",
      "YetGen PythOn\n",
      "A . B . C . D . E\n",
      "False\n",
      "False\n",
      "False\n"
     ]
    }
   ],
   "source": [
    "# 4.Problemin Çözümünü Buraya Yazınız\n",
    "#1. \n",
    "A = \"YeTgeN pYThOn\"\n",
    "print(A)\n",
    "print(A.capitalize())\n",
    "print(A.lower())\n",
    "print(A.upper())\n",
    "print(A.swapcase())\n",
    "print(A.title())\n",
    "print(A.replace(\"e\",\"u\"))\n",
    "\n",
    "#2\n",
    "print(A.startswith(\"s\"))\n",
    "print(A.endswith(\"n\"))\n",
    "print(A.find(\"u\"))\n",
    "print(A.index(\"T\"))\n",
    "print(A.count(\"e\"))\n",
    "\n",
    "#3\n",
    "print(A.split(\" \"))\n",
    "a = \"           YetGen PythOn           \"\n",
    "print(a.strip())\n",
    "M = [\"A\", \"B\", \"C\", \"D\", \"E\"]\n",
    "print(\" . \".join(M))\n",
    "print(A.islower())\n",
    "print(A.isalpha())\n",
    "print(A.isdigit())\n",
    "\n"
   ]
  }
 ],
 "metadata": {
  "kernelspec": {
   "display_name": "Python 3.10.5 64-bit",
   "language": "python",
   "name": "python3"
  },
  "language_info": {
   "codemirror_mode": {
    "name": "ipython",
    "version": 3
   },
   "file_extension": ".py",
   "mimetype": "text/x-python",
   "name": "python",
   "nbconvert_exporter": "python",
   "pygments_lexer": "ipython3",
   "version": "3.11.2"
  },
  "orig_nbformat": 4,
  "vscode": {
   "interpreter": {
    "hash": "5026d2d6e7aaaaba093def813beadff083d8733e4a511af01735cbabd156995d"
   }
  }
 },
 "nbformat": 4,
 "nbformat_minor": 2
}
