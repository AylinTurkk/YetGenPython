{
  "cells": [
    {
      "cell_type": "markdown",
      "metadata": {
        "id": "tsD4YVAe_Te2"
      },
      "source": [
        "# Problem 1\n",
        "Bir sayının 7'ye bölünebilir olup olmadığını kontrol etmek \n",
        "için bir program yazın.\n",
        "\n",
        "İpucu: Mod operatörünü (%) kullanabilirsiniz."
      ]
    },
    {
      "cell_type": "code",
      "execution_count": 7,
      "metadata": {
        "id": "NGjvNwKx_Te7"
      },
      "outputs": [
        {
          "name": "stdout",
          "output_type": "stream",
          "text": [
            "Sayınız 7'ye bölünemez.\n"
          ]
        }
      ],
      "source": [
        "# 1.Problemin Çözümünü Buraya Yazınız\n",
        "Sayi = int(input(\"Sayı giriniz:\"))\n",
        "if Sayi %7==0:\n",
        "    print(\"Sayınız 7'ye bölünebir.\")\n",
        "else:\n",
        "    print(\"Sayınız 7'ye bölünemez.\")\n"
      ]
    },
    {
      "cell_type": "markdown",
      "metadata": {
        "id": "Kg3qiBAI_Te8"
      },
      "source": [
        "# Problem 2\n",
        "Kullanıcıdan vize ve final notu isteyin. Girilen vize notunun %40’ı ve \n",
        "girilen finalnotunun ise %60’ı alınarak yıl sonu not ortalaması hesaplanacaktır. \n",
        "\n",
        "Bu not ortalaması eğer 85 ve üzeri ise AA, \n",
        "\n",
        "75 ve 85 arasında ise BA, \n",
        "\n",
        "70 ve 75 arasında ise BB, \n",
        "\n",
        "65 ve 70 arasında ise CB,\n",
        "\n",
        "60 ve 65 arasında ise CC,\n",
        "\n",
        "55 ve 60 arasında ise DC,\n",
        "\n",
        "50 ve 55 arasında ise DD olarak hesaplanacaktır. \n",
        "\n",
        "Bu öğrencinin yıl sonu toplam notu 50’nin altında ise FF ile dersten kalacaktır. \n",
        "\n",
        "Ayrıca öğrencinin final notu 50’nin altında ise direkt FF ile kalacaktır."
      ]
    },
    {
      "cell_type": "code",
      "execution_count": 6,
      "metadata": {
        "id": "MXTtCxI1_Te8"
      },
      "outputs": [
        {
          "name": "stdout",
          "output_type": "stream",
          "text": [
            "CB\n"
          ]
        }
      ],
      "source": [
        "# 2.Problemin Çözümünü Buraya Yazınız\n",
        "Vize = int(input(\"Vize notunuzu giriniz\"))\n",
        "Final = int(input(\"Final notunuzu giriniz:\"))\n",
        "Not1 = (Vize * 0.4)\n",
        "Not2 = (Final * 0.6)\n",
        "yilSonuNotu = (Not1+Not2)\n",
        "if Final<50:\n",
        "    print(\"Final notunuz 50'nin altında olduğu için FF ile kaldınız.\")\n",
        "elif yilSonuNotu >= 85:\n",
        "    print(\"AA\")\n",
        "elif yilSonuNotu<85 and yilSonuNotu>=75:\n",
        "    print(\"BA\")\n",
        "elif yilSonuNotu<75 and yilSonuNotu>=70:\n",
        "    print(\"BB\")\n",
        "elif yilSonuNotu<70 and yilSonuNotu>=65:\n",
        "    print(\"CB\")\n",
        "elif yilSonuNotu<65 and yilSonuNotu>=60:\n",
        "    print(\"CC\")\n",
        "elif yilSonuNotu<60 and yilSonuNotu>=55:\n",
        "    print(\"DC\")\n",
        "elif yilSonuNotu<55 and yilSonuNotu>=50:\n",
        "    print(\"DD\")\n",
        "elif yilSonuNotu<50:\n",
        "    print(\"FF\")"
      ]
    },
    {
      "cell_type": "markdown",
      "metadata": {
        "id": "tAoRYCTC_Te8"
      },
      "source": [
        "# Problem 3\n",
        "İki YetGenli Zirve'de karşılaşıyorlar. Birbirlerini tanımak için sorular soruyorlar. Birbirlerine yaşlarını soruyorlar. Akıllarına bir Python programı yazıp, yaşlarını ve isimlerini giriyorlar. Büyük olanın yaşını ekrana yazdıran programı yazıyorlar. Sende bu iki YetGenli'ye destek olmak ister misin?\n",
        "\n",
        "```\n",
        "Birinci YetGenlinin ismi: Ahmet\n",
        "Birinci YetGenlinin yaşı : 20\n",
        "İkinci YetGenlinin ismi: Mehmet\n",
        "İkinci YetGenlinin yaşı : 25\n",
        "Mehmet'in yaşı daha büyük ve yaşı 25'tir.\n",
        "```"
      ]
    },
    {
      "cell_type": "code",
      "execution_count": 40,
      "metadata": {
        "id": "bPjE8W0i_Te8"
      },
      "outputs": [
        {
          "name": "stdout",
          "output_type": "stream",
          "text": [
            "Fiderya'in yaşı 45 olduğundan daha büyüktür.\n"
          ]
        }
      ],
      "source": [
        "# 3.Problemin Çözümünü Buraya Yazınız\n",
        "Ad1 = input(\"1. Yetgenlinin adı:\")\n",
        "Yas1 = int(input(\"1. YetGenlinin yaşı:\"))\n",
        "Ad2 = input(\"2. Yetgenlinin adı:\")\n",
        "Yas2 = int(input(\"2. YetGenlinin yaşı:\"))\n",
        "if Yas1>Yas2:\n",
        "    print(\"{}'in yaşı {} olduğundan daha büyüktür.\".format(Ad1,Yas1))\n",
        "elif Yas1<Yas2:\n",
        "    print(\"{}'in yaşı {} olduğundan daha büyüktür.\".format(Ad2,Yas2))\n",
        "else:\n",
        "    print(\"Yaşlarınız eşittir.\")\n",
        "\n"
      ]
    },
    {
      "cell_type": "markdown",
      "metadata": {
        "id": "zBVv8Tyg_Te9"
      },
      "source": [
        "# Problem 4\n",
        "Pandemi döneminde AVM'lerde ateş ölçümü yapılıyor. AVM'ye giren kişinin ateş ölçümü 37.5 derecenin altında ise girişe izin veriliyor. 37.5 derecenin üstünde ise girişe izin verilmiyor. AVM'ye girişe izin verilip verilmediğini ekrana yazdıran bir program yazın.\n",
        "\n",
        "Program sonunda şöyle bir çıktı elde etmelisiniz:\n",
        "\n",
        "```\n",
        "Ateşiniz 37.5 derece. AVM'ye girebilirsin! Maske takmayı unutma!\n",
        "Ateşiniz 37.6 derece. AVM'ye giremezsin! Hemen evine dön!\n",
        "```"
      ]
    },
    {
      "cell_type": "code",
      "execution_count": 7,
      "metadata": {
        "id": "TSAXs8et_Te9"
      },
      "outputs": [
        {
          "name": "stdout",
          "output_type": "stream",
          "text": [
            "Ateşiniz 39.0 derece. AVM'ye giremezsiniz! Hemen evinize dönün!\n"
          ]
        }
      ],
      "source": [
        "# 4.Problemin Çözümünü Buraya Yazınız\n",
        "ates = float(input(\"Ateş ölçümünü giriniz:\"))\n",
        "if ates <= 37.5:\n",
        "    print(\"Ateşiniz {} derece. AVM'ye girebilirsiniz! Maske takmayı unutmayın!\".format(ates))\n",
        "else:\n",
        "    print(\"Ateşiniz {} derece. AVM'ye giremezsiniz! Hemen evinize dönün!\".format(ates))\n"
      ]
    },
    {
      "cell_type": "markdown",
      "metadata": {
        "id": "6AEkZrDt_Te9"
      },
      "source": [
        "# Problem 5\n",
        "YetGen bir spor kulübüyle sponsorluk anlaşması yapıyor. Kulüp, sponsorluk anlaşmasına göre her YetGen liderinin beden kitle indeksini hesaplamak istiyor. Spor kulübü, beden kitle indeksini hesaplamak için YetGen Jump Python liderlerinden Berkcan ve Ahmet'i arıyor. Berkcan ve Ahmet, kulübe yardımcı olmak için bir Python programı yazıyorlar. Sende bu iki YetGen liderine destek olmak ister misin?\n",
        "\n",
        "Kullanıcıdan alınan boy ve kilo değerlerine göre beden kitle indeksini hesaplayın ve şu kurallara göre ekrana şu yazıları yazdırın.\n",
        "\n",
        "\n",
        "Beden Kitle İndeksi, kişinin ağırlığının (kg olarak) boyunun karesine (m olarak) bölünmesiyle hesaplanır.\n",
        "\n",
        "\n",
        "```\n",
        " BKİ 18.5'un altındaysa -------> Zayıf\n",
        "\n",
        " BKİ 18.5 ile 25 arasındaysa ------> Normal\n",
        "\n",
        " BKİ 25 ile 30 arasındaysa --------> Fazla Kilolu\n",
        "\n",
        " BKİ 30'un üstündeyse -------------> Obez\n",
        "```\n",
        "\n"
      ]
    },
    {
      "cell_type": "code",
      "execution_count": 29,
      "metadata": {
        "id": "t-XPI_u0_Te-"
      },
      "outputs": [
        {
          "name": "stdout",
          "output_type": "stream",
          "text": [
            "OBEZ\n"
          ]
        }
      ],
      "source": [
        "# 5.Problemin Çözümünü Buraya Yazınız\n",
        "agirlik = float(input(\"Kilonuzu giriniz:\"))\n",
        "boy = float(input(\"Boyunuzu giriniz:\"))\n",
        "BKI = (agirlik//boy**2)\n",
        "if BKI<=18.5:\n",
        "    print(\"ZAYIF\")\n",
        "elif BKI>18.5 and BKI<=25:\n",
        "    print(\"NORMAL\")\n",
        "elif BKI>25 and BKI<=30:\n",
        "    print(\"FAZLA KİLOLU\")\n",
        "elif BKI>30:\n",
        "    print(\"OBEZ\")"
      ]
    },
    {
      "cell_type": "markdown",
      "metadata": {
        "id": "oFsvQyaO_Te-"
      },
      "source": [
        "# Problem 6\n",
        "Kullanıcıdan isim, yaş ve eğitim bilgilerini isteyip ehliyet alabilme  durumunu kontrol ediniz. \n",
        "\n",
        "Ehliyet alma koşulu en az 18 yaşında ve eğitim durumu lise ya da üniversite olmalıdır. "
      ]
    },
    {
      "cell_type": "code",
      "execution_count": 34,
      "metadata": {
        "id": "Tu2mcgco_Te-"
      },
      "outputs": [
        {
          "name": "stdout",
          "output_type": "stream",
          "text": [
            "Aylin ehliyet alabilirsin.\n"
          ]
        }
      ],
      "source": [
        "# 6.Problemin Çözümünü Buraya Yazınız\n",
        "isim = input(\"Adınız:\")\n",
        "yas = int(input(\"Yaşınız:\"))\n",
        "egitim = input(\"Eğitim durumuz:\")\n",
        "if yas>=18 and (egitim==\"lise\" or egitim==\"lisans\" or egitim==\"önlisans\" or egitim==\"yüksek lisans\" or egitim==\"doktora\"):\n",
        "    print(\"{} ehliyet alabilirsin.\".format(isim))\n",
        "else:\n",
        "    print(\"{} ehliyet alamazsın.\".format(isim))\n",
        "\n",
        "\n"
      ]
    },
    {
      "cell_type": "markdown",
      "metadata": {
        "id": "eUkxVSAE_Te_"
      },
      "source": [
        "# Problem 7\n",
        "Bir yılın artık yıl olup olmadığını kontrol etmek için bir program yazın. \n",
        "Artık yıl kuralı:\n",
        "\n",
        "a) Eğer yılın son iki basamağı (00) ile bitmiyor ve yalnızca 4'e tam bölünüyorsa artık yıldır. Ya da, \n",
        "\n",
        "b) Eğer yıl 400'e tam bölünüyorsa artık yıldır.\n",
        "\n",
        "**Örneğin**\n",
        "```\n",
        "2017 artık yıl değildir.\n",
        "1900 artık yıl değildir\n",
        "2012 artık yıldır.\n",
        "2000 artık yıldır.\n",
        "```"
      ]
    },
    {
      "cell_type": "code",
      "execution_count": 25,
      "metadata": {
        "id": "4uWh8qUL_Te_"
      },
      "outputs": [
        {
          "name": "stdout",
          "output_type": "stream",
          "text": [
            "1900 artık yıl değildir.\n"
          ]
        }
      ],
      "source": [
        "# 7.Problemin Çözümünü Buraya Yazınız\n",
        "yil= int(input(\"Yıl giriniz:\"))\n",
        "if yil%100!=0 and yil%4==0:\n",
        "    print(\"{} artık yıldır.\".format(yil))\n",
        "elif yil%400==0:\n",
        "    print(\"{} artık yıldır.\".format(yil))\n",
        "else:\n",
        "    print(\"{} artık yıl değildir.\".format(yil))\n"
      ]
    }
  ],
  "metadata": {
    "colab": {
      "provenance": []
    },
    "kernelspec": {
      "display_name": "Python 3.10.5 64-bit",
      "language": "python",
      "name": "python3"
    },
    "language_info": {
      "codemirror_mode": {
        "name": "ipython",
        "version": 3
      },
      "file_extension": ".py",
      "mimetype": "text/x-python",
      "name": "python",
      "nbconvert_exporter": "python",
      "pygments_lexer": "ipython3",
      "version": "3.11.2"
    },
    "orig_nbformat": 4,
    "vscode": {
      "interpreter": {
        "hash": "5026d2d6e7aaaaba093def813beadff083d8733e4a511af01735cbabd156995d"
      }
    }
  },
  "nbformat": 4,
  "nbformat_minor": 0
}
